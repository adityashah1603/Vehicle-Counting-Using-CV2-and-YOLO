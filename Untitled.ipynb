{
 "cells": [
  {
   "cell_type": "code",
   "execution_count": 1,
   "id": "568c5f1a",
   "metadata": {},
   "outputs": [],
   "source": [
    "import cv2 as cv2\n",
    "import numpy as np\n",
    "from wandb import Classes\n",
    "import matplotlib.pyplot as plt"
   ]
  },
  {
   "cell_type": "code",
   "execution_count": 2,
   "id": "182fbeed",
   "metadata": {},
   "outputs": [],
   "source": [
    "# load yolo\n",
    "net = cv2.dnn.readNet(\"yolov3.weights\",\"yolov3.cfg\")\n",
    "classes = []\n",
    "with open(\"coco.names\", 'r') as f:\n",
    "    classes = [line.strip() for line in f.readlines()]\n",
    "# print(classes)\n",
    "\n",
    "cap = cv2.VideoCapture('Vehicle_count_test.mp4')\n"
   ]
  },
  {
   "cell_type": "code",
   "execution_count": 3,
   "id": "36f27280",
   "metadata": {},
   "outputs": [],
   "source": [
    "# Object tracking variables\n",
    "vehicle_count = 0\n",
    "previous_boxes = []\n",
    "\n",
    "layer_name = net.getLayerNames()\n",
    "output_layer = [layer_name[i - 1] for i in net.getUnconnectedOutLayers()]\n",
    "colors = np.random.uniform(0, 255, size=(len(classes), 3))"
   ]
  },
  {
   "cell_type": "code",
   "execution_count": 4,
   "id": "d6919658",
   "metadata": {},
   "outputs": [
    {
     "name": "stdout",
     "output_type": "stream",
     "text": [
      "Vehicles detected at frame 0: 3\n",
      "Vehicles detected at frame 60: 10\n",
      "Vehicles detected at frame 120: 19\n",
      "Vehicles detected at frame 180: 28\n",
      "Vehicles detected at frame 240: 33\n",
      "Vehicles detected at frame 300: 36\n",
      "Vehicles detected at frame 360: 42\n",
      "Vehicles detected at frame 420: 47\n",
      "Vehicles detected at frame 480: 48\n",
      "Vehicles detected at frame 540: 54\n",
      "Vehicles detected at frame 600: 57\n",
      "Vehicles detected at frame 660: 62\n",
      "Vehicles detected at frame 720: 64\n",
      "Vehicles detected at frame 780: 70\n",
      "Vehicles detected at frame 840: 73\n",
      "Total vehicles detected: 73\n"
     ]
    }
   ],
   "source": [
    "vehicle_count = 0\n",
    "frame_interval = 2  # 2 seconds\n",
    "frame_number = 0\n",
    "\n",
    "while True:\n",
    "    ret, frame = cap.read()\n",
    "    if not ret:\n",
    "        break\n",
    "\n",
    "    height, width, _ = frame.shape\n",
    "\n",
    "    # Capture a frame every 2 seconds (30 frames per minute)\n",
    "    if frame_number % (frame_interval * 30) == 0:\n",
    "        # YOLO vehicle detection code here\n",
    "\n",
    "        # Prepare input blob\n",
    "        blob = cv2.dnn.blobFromImage(frame, 1 / 255.0, (416, 416), swapRB=True, crop=False)\n",
    "\n",
    "        net.setInput(blob)\n",
    "        output_layers = net.getUnconnectedOutLayersNames()\n",
    "        outs = net.forward(output_layers)\n",
    "\n",
    "        class_ids = []\n",
    "        confidences = []\n",
    "        boxes = []\n",
    "\n",
    "        for out in outs:\n",
    "            for detection in out:\n",
    "                scores = detection[5:]\n",
    "                class_id = np.argmax(scores)\n",
    "                confidence = scores[class_id]\n",
    "                if confidence > 0.5 and class_id == 2:  # Class 2 represents \"car\" in COCO dataset\n",
    "                    center_x, center_y, w, h = (np.array(detection[0:4]) * np.array([width, height, width, height])).astype(int)\n",
    "                    x, y = int(center_x - w / 2), int(center_y - h / 2)\n",
    "                    boxes.append([x, y, w, h])\n",
    "                    confidences.append(float(confidence))\n",
    "                    class_ids.append(class_id)\n",
    "\n",
    "        indexes = cv2.dnn.NMSBoxes(boxes, confidences, 0.5, 0.4)\n",
    "\n",
    "        for i in range(len(boxes)):\n",
    "            if i in indexes:\n",
    "                x, y, w, h = boxes[i]\n",
    "                cv2.rectangle(frame, (x, y), (x + w, y + h), (0, 255, 0), 2)\n",
    "                vehicle_count += 1\n",
    "\n",
    "        print(f'Vehicles detected at frame {frame_number}: {vehicle_count}')\n",
    "\n",
    "    frame_number += 1\n",
    "\n",
    "    cv2.imshow('Vehicle Detection', frame)\n",
    "    if cv2.waitKey(1) & 0xFF == ord('q'):\n",
    "        break\n",
    "\n",
    "cap.release()\n",
    "cv2.destroyAllWindows()\n",
    "\n",
    "print(f'Total vehicles detected: {vehicle_count}')"
   ]
  }
 ],
 "metadata": {
  "kernelspec": {
   "display_name": "Python 3 (ipykernel)",
   "language": "python",
   "name": "python3"
  },
  "language_info": {
   "codemirror_mode": {
    "name": "ipython",
    "version": 3
   },
   "file_extension": ".py",
   "mimetype": "text/x-python",
   "name": "python",
   "nbconvert_exporter": "python",
   "pygments_lexer": "ipython3",
   "version": "3.9.13"
  }
 },
 "nbformat": 4,
 "nbformat_minor": 5
}
